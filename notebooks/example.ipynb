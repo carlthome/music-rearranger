{
 "cells": [
  {
   "cell_type": "markdown",
   "metadata": {},
   "source": [
    "# Music rearranger\n",
    "\n",
    "End-to-end example notebook"
   ]
  },
  {
   "cell_type": "code",
   "execution_count": null,
   "metadata": {},
   "outputs": [],
   "source": [
    "# Imports\n",
    "import copy\n",
    "import soundfile as sf\n",
    "import librosa\n",
    "import matplotlib.pyplot as plt\n",
    "from rearranger.identification import *\n",
    "from rearranger.formatting import *\n",
    "from rearranger.segmentation import *\n",
    "from rearranger.plotting import *\n",
    "from rearranger.optimization import *\n",
    "from rearranger.construction import *"
   ]
  },
  {
   "cell_type": "code",
   "execution_count": null,
   "metadata": {},
   "outputs": [],
   "source": [
    "# Parameters\n",
    "audio_path = \"\"\n",
    "n_measures = 1  # min measure size for quantization\n",
    "pattern_length = 2  # min diagonal length to consider a pattern\n",
    "pattern_percentile = 50  # thresholds for connected point strength to consider\n",
    "type_min_d_len = 2  # min diagonal length for inner-segment points\n",
    "type_levels_list = [2, 4, 6]  # levels to check for inner-segment points\n",
    "target_beats = 120  # set target number of beats for rearrangement here"
   ]
  },
  {
   "cell_type": "code",
   "execution_count": null,
   "metadata": {},
   "outputs": [],
   "source": [
    "# Get segmentation data\n",
    "beat_times, beat_order, A, A_f, fixed_levels, Csync, Msync, Hsync = stuff_I_need(audio_path)"
   ]
  },
  {
   "cell_type": "code",
   "execution_count": null,
   "metadata": {},
   "outputs": [],
   "source": [
    "# Format and quantize structure representation\n",
    "fixed_levels_beats = structure_time_to_beats(\n",
    "    fixed_levels=fixed_levels,\n",
    "    beat_times=beat_times)\n",
    "fixed_levels_n_measures, downbeat_times, downbeat_beats, n_measure_beats = quantize_to_measures(\n",
    "    fixed_levels_beats=fixed_levels_beats,\n",
    "    n_measures=n_measures,\n",
    "    beat_order=beat_order,\n",
    "    beat_times=beat_times)\n",
    "fixed_levels_n_measures_unique = get_unique_segments(fixed_levels_beats)\n",
    "\n",
    "# Get patterns\n",
    "patterns = common_patterns(\n",
    "    Csync=Csync,\n",
    "    Msync=Msync,\n",
    "    Hsync=Hsync,\n",
    "    length=pattern_length,\n",
    "    percentile=pattern_percentile)\n",
    "\n",
    "# Get cross-segment points\n",
    "segment_points = segment_transition_points(\n",
    "    fixed_levels=fixed_levels_n_measures_unique,\n",
    "    quantization=n_measures,\n",
    "    beats_in_measure=int(np.max(beat_order[:, 1])),\n",
    "    patterns=patterns)\n",
    "\n",
    "# Get inner-segment points\n",
    "type_points = type_transition_points(\n",
    "    fixed_levels=fixed_levels_n_measures,\n",
    "    levels_list=type_levels_list,\n",
    "    min_d_len=type_min_d_len,\n",
    "    patterns=patterns,\n",
    "    beats_in_measure=int(np.max(beat_order[:, 1])))"
   ]
  },
  {
   "cell_type": "code",
   "execution_count": null,
   "metadata": {},
   "outputs": [],
   "source": [
    "# Path finding\n",
    "jumps = get_ordinal_encoding(segment_points+type_points,\n",
    "                             patterns.shape[0],\n",
    "                             neighbors=True)\n",
    "jumps_copy = copy.deepcopy(jumps)\n",
    "\n",
    "result = get_path(\n",
    "    cur_idx=0,\n",
    "    jumps=jumps_copy,\n",
    "    rem_beats=target_beats,\n",
    "    beat_no=patterns.shape[0]\n",
    ")"
   ]
  },
  {
   "cell_type": "code",
   "execution_count": null,
   "metadata": {},
   "outputs": [],
   "source": [
    "# Construct audio\n",
    "y, sr = librosa.load(audio_path)\n",
    "y_new = audio_constructor(\n",
    "    y=y,\n",
    "    sr=sr,\n",
    "    recon_beats=result,\n",
    "    beat_times=beat_times,\n",
    "    crossfade=0.1\n",
    ")\n",
    "\n",
    "sf.write(audio_path[:-4]+f'{target_beats}.wav', y_new, sr)"
   ]
  }
 ],
 "metadata": {
  "language_info": {
   "name": "python"
  },
  "orig_nbformat": 4
 },
 "nbformat": 4,
 "nbformat_minor": 2
}
